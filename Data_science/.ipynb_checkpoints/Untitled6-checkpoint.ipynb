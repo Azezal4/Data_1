{
 "cells": [
  {
   "cell_type": "markdown",
   "metadata": {},
   "source": [
    "# Detecting of different objects using YOLO version-3"
   ]
  },
  {
   "cell_type": "code",
   "execution_count": 2,
   "metadata": {},
   "outputs": [],
   "source": [
    "from imageai.Detection import ObjectDetection, VideoObjectDetection"
   ]
  },
  {
   "cell_type": "code",
   "execution_count": 3,
   "metadata": {},
   "outputs": [
    {
     "name": "stdout",
     "output_type": "stream",
     "text": [
      "WARNING:tensorflow:From C:\\Users\\Ujjwal\\Anaconda3\\lib\\site-packages\\keras\\backend\\tensorflow_backend.py:190: The name tf.get_default_session is deprecated. Please use tf.compat.v1.get_default_session instead.\n",
      "\n",
      "WARNING:tensorflow:From C:\\Users\\Ujjwal\\Anaconda3\\lib\\site-packages\\keras\\backend\\tensorflow_backend.py:197: The name tf.ConfigProto is deprecated. Please use tf.compat.v1.ConfigProto instead.\n",
      "\n",
      "WARNING:tensorflow:From C:\\Users\\Ujjwal\\Anaconda3\\lib\\site-packages\\keras\\backend\\tensorflow_backend.py:203: The name tf.Session is deprecated. Please use tf.compat.v1.Session instead.\n",
      "\n",
      "WARNING:tensorflow:From C:\\Users\\Ujjwal\\Anaconda3\\lib\\site-packages\\keras\\backend\\tensorflow_backend.py:207: The name tf.global_variables is deprecated. Please use tf.compat.v1.global_variables instead.\n",
      "\n"
     ]
    }
   ],
   "source": [
    "model = ObjectDetection()"
   ]
  },
  {
   "cell_type": "code",
   "execution_count": 4,
   "metadata": {},
   "outputs": [],
   "source": [
    "model.setModelTypeAsYOLOv3()\n",
    "#model.setModelTypeAsRetinaNet() or \n",
    "#model.setModelTypeAsYOLOv3()"
   ]
  },
  {
   "cell_type": "code",
   "execution_count": 5,
   "metadata": {},
   "outputs": [],
   "source": [
    "model.setModelPath('yolo.h5')"
   ]
  },
  {
   "cell_type": "code",
   "execution_count": 6,
   "metadata": {},
   "outputs": [
    {
     "name": "stdout",
     "output_type": "stream",
     "text": [
      "WARNING:tensorflow:From C:\\Users\\Ujjwal\\Anaconda3\\lib\\site-packages\\keras\\backend\\tensorflow_backend.py:66: The name tf.get_default_graph is deprecated. Please use tf.compat.v1.get_default_graph instead.\n",
      "\n",
      "WARNING:tensorflow:From C:\\Users\\Ujjwal\\Anaconda3\\lib\\site-packages\\keras\\backend\\tensorflow_backend.py:2041: The name tf.nn.fused_batch_norm is deprecated. Please use tf.compat.v1.nn.fused_batch_norm instead.\n",
      "\n",
      "WARNING:tensorflow:From C:\\Users\\Ujjwal\\Anaconda3\\lib\\site-packages\\keras\\backend\\tensorflow_backend.py:2239: The name tf.image.resize_nearest_neighbor is deprecated. Please use tf.compat.v1.image.resize_nearest_neighbor instead.\n",
      "\n",
      "WARNING:tensorflow:From C:\\Users\\Ujjwal\\Anaconda3\\lib\\site-packages\\tensorflow\\python\\ops\\array_ops.py:1354: add_dispatch_support.<locals>.wrapper (from tensorflow.python.ops.array_ops) is deprecated and will be removed in a future version.\n",
      "Instructions for updating:\n",
      "Use tf.where in 2.0, which has the same broadcast rule as np.where\n"
     ]
    }
   ],
   "source": [
    "model.loadModel()"
   ]
  },
  {
   "cell_type": "code",
   "execution_count": 7,
   "metadata": {},
   "outputs": [
    {
     "data": {
      "text/plain": [
       "[{'name': 'cow',\n",
       "  'percentage_probability': 10.548022389411926,\n",
       "  'box_points': [616, 358, 843, 459]},\n",
       " {'name': 'cow',\n",
       "  'percentage_probability': 10.633469372987747,\n",
       "  'box_points': [4, 369, 263, 465]},\n",
       " {'name': 'cow',\n",
       "  'percentage_probability': 12.482569366693497,\n",
       "  'box_points': [0, 450, 199, 609]},\n",
       " {'name': 'cow',\n",
       "  'percentage_probability': 32.72477686405182,\n",
       "  'box_points': [31, 636, 479, 786]},\n",
       " {'name': 'sheep',\n",
       "  'percentage_probability': 22.000563144683838,\n",
       "  'box_points': [1083, 570, 1336, 775]},\n",
       " {'name': 'sheep',\n",
       "  'percentage_probability': 22.245484590530396,\n",
       "  'box_points': [755, 512, 1027, 618]},\n",
       " {'name': 'sheep',\n",
       "  'percentage_probability': 23.783372342586517,\n",
       "  'box_points': [731, 356, 931, 473]},\n",
       " {'name': 'sheep',\n",
       "  'percentage_probability': 26.219099760055542,\n",
       "  'box_points': [77, 270, 1359, 760]},\n",
       " {'name': 'sheep',\n",
       "  'percentage_probability': 28.508833050727844,\n",
       "  'box_points': [529, 546, 794, 737]},\n",
       " {'name': 'sheep',\n",
       "  'percentage_probability': 32.62082040309906,\n",
       "  'box_points': [575, 519, 1072, 753]},\n",
       " {'name': 'sheep',\n",
       "  'percentage_probability': 35.68223714828491,\n",
       "  'box_points': [0, 446, 252, 619]},\n",
       " {'name': 'sheep',\n",
       "  'percentage_probability': 36.719006299972534,\n",
       "  'box_points': [570, 458, 771, 564]},\n",
       " {'name': 'sheep',\n",
       "  'percentage_probability': 39.35697674751282,\n",
       "  'box_points': [1158, 375, 1380, 491]},\n",
       " {'name': 'sheep',\n",
       "  'percentage_probability': 43.3421790599823,\n",
       "  'box_points': [479, 316, 615, 399]},\n",
       " {'name': 'sheep',\n",
       "  'percentage_probability': 45.59636116027832,\n",
       "  'box_points': [251, 515, 565, 666]},\n",
       " {'name': 'sheep',\n",
       "  'percentage_probability': 60.60584783554077,\n",
       "  'box_points': [299, 334, 518, 437]},\n",
       " {'name': 'sheep',\n",
       "  'percentage_probability': 61.51193380355835,\n",
       "  'box_points': [378, 422, 626, 529]},\n",
       " {'name': 'sheep',\n",
       "  'percentage_probability': 61.694395542144775,\n",
       "  'box_points': [616, 358, 843, 459]},\n",
       " {'name': 'sheep',\n",
       "  'percentage_probability': 65.25484919548035,\n",
       "  'box_points': [1133, 478, 1374, 581]},\n",
       " {'name': 'sheep',\n",
       "  'percentage_probability': 71.11397385597229,\n",
       "  'box_points': [167, 440, 408, 587]},\n",
       " {'name': 'sheep',\n",
       "  'percentage_probability': 71.28591537475586,\n",
       "  'box_points': [1208, 605, 1400, 782]},\n",
       " {'name': 'sheep',\n",
       "  'percentage_probability': 75.02134442329407,\n",
       "  'box_points': [3, 598, 244, 764]},\n",
       " {'name': 'sheep',\n",
       "  'percentage_probability': 80.78927397727966,\n",
       "  'box_points': [23, 663, 479, 786]},\n",
       " {'name': 'sheep',\n",
       "  'percentage_probability': 83.52295756340027,\n",
       "  'box_points': [155, 367, 414, 466]},\n",
       " {'name': 'dog',\n",
       "  'percentage_probability': 11.51803731918335,\n",
       "  'box_points': [242, 514, 577, 711]},\n",
       " {'name': 'dog',\n",
       "  'percentage_probability': 21.102069318294525,\n",
       "  'box_points': [858, 318, 1144, 435]},\n",
       " {'name': 'dog',\n",
       "  'percentage_probability': 21.742016077041626,\n",
       "  'box_points': [688, 534, 1105, 756]},\n",
       " {'name': 'dog',\n",
       "  'percentage_probability': 29.972782731056213,\n",
       "  'box_points': [31, 636, 479, 786]},\n",
       " {'name': 'dog',\n",
       "  'percentage_probability': 41.94734990596771,\n",
       "  'box_points': [1158, 375, 1380, 491]},\n",
       " {'name': 'dog',\n",
       "  'percentage_probability': 76.47095322608948,\n",
       "  'box_points': [910, 344, 1196, 469]},\n",
       " {'name': 'cat',\n",
       "  'percentage_probability': 17.178554832935333,\n",
       "  'box_points': [688, 534, 1105, 756]},\n",
       " {'name': 'truck',\n",
       "  'percentage_probability': 11.24105453491211,\n",
       "  'box_points': [546, 135, 1063, 342]},\n",
       " {'name': 'bus',\n",
       "  'percentage_probability': 14.433446526527405,\n",
       "  'box_points': [53, 14, 504, 317]},\n",
       " {'name': 'bus',\n",
       "  'percentage_probability': 22.140291333198547,\n",
       "  'box_points': [548, 118, 1075, 331]},\n",
       " {'name': 'bus',\n",
       "  'percentage_probability': 24.737708270549774,\n",
       "  'box_points': [0, 23, 233, 372]},\n",
       " {'name': 'bus',\n",
       "  'percentage_probability': 84.49457287788391,\n",
       "  'box_points': [161, 0, 1022, 304]},\n",
       " {'name': 'bus',\n",
       "  'percentage_probability': 97.21748232841492,\n",
       "  'box_points': [1262, 11, 1400, 249]},\n",
       " {'name': 'car',\n",
       "  'percentage_probability': 19.206342101097107,\n",
       "  'box_points': [0, 23, 233, 372]},\n",
       " {'name': 'car',\n",
       "  'percentage_probability': 94.76748704910278,\n",
       "  'box_points': [546, 135, 1063, 342]},\n",
       " {'name': 'person',\n",
       "  'percentage_probability': 18.626752495765686,\n",
       "  'box_points': [774, 40, 803, 76]},\n",
       " {'name': 'person',\n",
       "  'percentage_probability': 25.009697675704956,\n",
       "  'box_points': [420, 27, 498, 199]},\n",
       " {'name': 'person',\n",
       "  'percentage_probability': 65.14146327972412,\n",
       "  'box_points': [644, 42, 689, 76]},\n",
       " {'name': 'person',\n",
       "  'percentage_probability': 79.70318794250488,\n",
       "  'box_points': [724, 37, 765, 74]},\n",
       " {'name': 'person',\n",
       "  'percentage_probability': 93.15298199653625,\n",
       "  'box_points': [1018, 127, 1124, 365]}]"
      ]
     },
     "execution_count": 7,
     "metadata": {},
     "output_type": "execute_result"
    }
   ],
   "source": [
    "model.detectObjectsFromImage(input_image = \"traffic1.jpg\",\n",
    "                            output_image_path = \"object_detected.jpg\",\n",
    "                            minimum_percentage_probability = 0.5 ) #display-probability-percent = True || to show probability percent "
   ]
  },
  {
   "cell_type": "code",
   "execution_count": 8,
   "metadata": {},
   "outputs": [],
   "source": [
    "import cv2\n",
    "video = cv2.VideoCapture(0)"
   ]
  },
  {
   "cell_type": "code",
   "execution_count": 9,
   "metadata": {},
   "outputs": [],
   "source": [
    "vid_model = VideoObjectDetection()"
   ]
  },
  {
   "cell_type": "code",
   "execution_count": 10,
   "metadata": {},
   "outputs": [],
   "source": [
    "vid_model.setModelTypeAsYOLOv3()"
   ]
  },
  {
   "cell_type": "code",
   "execution_count": 11,
   "metadata": {},
   "outputs": [],
   "source": [
    "vid_model.setModelPath('yolo.h5')"
   ]
  },
  {
   "cell_type": "code",
   "execution_count": 12,
   "metadata": {},
   "outputs": [],
   "source": [
    "vid_model.loadModel()"
   ]
  },
  {
   "cell_type": "code",
   "execution_count": null,
   "metadata": {},
   "outputs": [],
   "source": [
    "vid_model.detectCustomObjectsFromVideo(input_file_path = \"vedio.mp4\",\n",
    "                                     output_file_path = \"classvideo111\",\n",
    "                                     frames_per_second = 30)\n",
    "                            "
   ]
  },
  {
   "cell_type": "code",
   "execution_count": null,
   "metadata": {},
   "outputs": [],
   "source": []
  }
 ],
 "metadata": {
  "kernelspec": {
   "display_name": "Python 3",
   "language": "python",
   "name": "python3"
  },
  "language_info": {
   "codemirror_mode": {
    "name": "ipython",
    "version": 3
   },
   "file_extension": ".py",
   "mimetype": "text/x-python",
   "name": "python",
   "nbconvert_exporter": "python",
   "pygments_lexer": "ipython3",
   "version": "3.7.3"
  }
 },
 "nbformat": 4,
 "nbformat_minor": 2
}
