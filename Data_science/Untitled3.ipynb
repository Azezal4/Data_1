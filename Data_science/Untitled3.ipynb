{
 "cells": [
  {
   "cell_type": "code",
   "execution_count": 2,
   "metadata": {},
   "outputs": [],
   "source": [
    "import os \n",
    "import io \n",
    "import numpy as np \n",
    "import pandas as pd\n",
    "from sklearn.naive_bayes import MultinomialNB\n",
    "from sklearn.metrics import accuracy_score \n",
    "from sklearn.feature_extraction.text import CountVectorizer"
   ]
  },
  {
   "cell_type": "code",
   "execution_count": 3,
   "metadata": {},
   "outputs": [],
   "source": [
    "def readfiles(path):\n",
    "    for root, dirnames, filenames in os.walk(path):\n",
    "        for filename in filenames:\n",
    "            path = os.path.join(root,filename)\n",
    "            inBody = False\n",
    "            lines = []\n",
    "            f = io.open(path,'r',encoding='latin1')\n",
    "            for line in f:\n",
    "                if inBody:\n",
    "                    lines.append(line)\n",
    "                elif line=='\\n':\n",
    "                    inBody=True\n",
    "            f.close()\n",
    "            message = '\\n'.join(lines)\n",
    "            yield path,message"
   ]
  },
  {
   "cell_type": "code",
   "execution_count": 5,
   "metadata": {},
   "outputs": [],
   "source": [
    "\n",
    "def DataFrameFromDirectory(path, classification):\n",
    "    rows = []\n",
    "    index = []\n",
    "    for filename, message in readfiles(path):\n",
    "        rows.append({'message':message,'class':classification})\n",
    "        index.append(filename)\n",
    "    return pd.DataFrame(rows, index=index)\n",
    "\n"
   ]
  },
  {
   "cell_type": "code",
   "execution_count": 7,
   "metadata": {},
   "outputs": [],
   "source": [
    "data = pd.DataFrame({'message':[],'class':[]})\n",
    "data = data.append(DataFrameFromDirectory('C:/Users/Ujjwal/Documents/Data_1/Data_science/emails/ham','ham'))\n",
    "data= data.append(DataFrameFromDirectory('C:/Users/Ujjwal/Documents/Data_1/Data_science/emails/spam','spam'))"
   ]
  },
  {
   "cell_type": "code",
   "execution_count": 9,
   "metadata": {},
   "outputs": [
    {
     "data": {
      "text/html": [
       "<div>\n",
       "<style scoped>\n",
       "    .dataframe tbody tr th:only-of-type {\n",
       "        vertical-align: middle;\n",
       "    }\n",
       "\n",
       "    .dataframe tbody tr th {\n",
       "        vertical-align: top;\n",
       "    }\n",
       "\n",
       "    .dataframe thead th {\n",
       "        text-align: right;\n",
       "    }\n",
       "</style>\n",
       "<table border=\"1\" class=\"dataframe\">\n",
       "  <thead>\n",
       "    <tr style=\"text-align: right;\">\n",
       "      <th></th>\n",
       "      <th>class</th>\n",
       "      <th>message</th>\n",
       "    </tr>\n",
       "  </thead>\n",
       "  <tbody>\n",
       "    <tr>\n",
       "      <th>C:/Users/Ujjwal/Documents/Data_1/Data_science/emails/ham\\00001.7c53336b37003a9286aba55d2945844c</th>\n",
       "      <td>ham</td>\n",
       "      <td>Date:        Wed, 21 Aug 2002 10:54:46 -05...</td>\n",
       "    </tr>\n",
       "    <tr>\n",
       "      <th>C:/Users/Ujjwal/Documents/Data_1/Data_science/emails/ham\\00002.9c4069e25e1ef370c078db7ee85ff9ac</th>\n",
       "      <td>ham</td>\n",
       "      <td>Martin A posted:\\n\\nTassos Papadopoulos, the G...</td>\n",
       "    </tr>\n",
       "    <tr>\n",
       "      <th>C:/Users/Ujjwal/Documents/Data_1/Data_science/emails/ham\\00003.860e3c3cee1b42ead714c5c874fe25f7</th>\n",
       "      <td>ham</td>\n",
       "      <td>Man Threatens Explosion In Moscow \\n\\n\\n\\nThur...</td>\n",
       "    </tr>\n",
       "    <tr>\n",
       "      <th>C:/Users/Ujjwal/Documents/Data_1/Data_science/emails/ham\\00004.864220c5b6930b209cc287c361c99af1</th>\n",
       "      <td>ham</td>\n",
       "      <td>Klez: The Virus That Won't Die\\n\\n \\n\\nAlready...</td>\n",
       "    </tr>\n",
       "    <tr>\n",
       "      <th>C:/Users/Ujjwal/Documents/Data_1/Data_science/emails/ham\\00005.bf27cdeaf0b8c4647ecd61b1d09da613</th>\n",
       "      <td>ham</td>\n",
       "      <td>&gt;  in adding cream to spaghetti carbonara, whi...</td>\n",
       "    </tr>\n",
       "  </tbody>\n",
       "</table>\n",
       "</div>"
      ],
      "text/plain": [
       "                                                   class  \\\n",
       "C:/Users/Ujjwal/Documents/Data_1/Data_science/e...   ham   \n",
       "C:/Users/Ujjwal/Documents/Data_1/Data_science/e...   ham   \n",
       "C:/Users/Ujjwal/Documents/Data_1/Data_science/e...   ham   \n",
       "C:/Users/Ujjwal/Documents/Data_1/Data_science/e...   ham   \n",
       "C:/Users/Ujjwal/Documents/Data_1/Data_science/e...   ham   \n",
       "\n",
       "                                                                                              message  \n",
       "C:/Users/Ujjwal/Documents/Data_1/Data_science/e...      Date:        Wed, 21 Aug 2002 10:54:46 -05...  \n",
       "C:/Users/Ujjwal/Documents/Data_1/Data_science/e...  Martin A posted:\\n\\nTassos Papadopoulos, the G...  \n",
       "C:/Users/Ujjwal/Documents/Data_1/Data_science/e...  Man Threatens Explosion In Moscow \\n\\n\\n\\nThur...  \n",
       "C:/Users/Ujjwal/Documents/Data_1/Data_science/e...  Klez: The Virus That Won't Die\\n\\n \\n\\nAlready...  \n",
       "C:/Users/Ujjwal/Documents/Data_1/Data_science/e...  >  in adding cream to spaghetti carbonara, whi...  "
      ]
     },
     "execution_count": 9,
     "metadata": {},
     "output_type": "execute_result"
    }
   ],
   "source": [
    "data.head()"
   ]
  },
  {
   "cell_type": "code",
   "execution_count": null,
   "metadata": {},
   "outputs": [],
   "source": []
  }
 ],
 "metadata": {
  "kernelspec": {
   "display_name": "Python 3",
   "language": "python",
   "name": "python3"
  },
  "language_info": {
   "codemirror_mode": {
    "name": "ipython",
    "version": 3
   },
   "file_extension": ".py",
   "mimetype": "text/x-python",
   "name": "python",
   "nbconvert_exporter": "python",
   "pygments_lexer": "ipython3",
   "version": "3.7.3"
  }
 },
 "nbformat": 4,
 "nbformat_minor": 2
}
